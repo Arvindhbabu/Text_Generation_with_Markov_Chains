{
  "cells": [
    {
      "cell_type": "markdown",
      "metadata": {
        "id": "fTyl_NGXYdEr"
      },
      "source": [
        "#  Text Generation using Markov Chains\n"
      ]
    },
    {
      "cell_type": "markdown",
      "source": [
        "# STEP 1: Sample Training Text"
      ],
      "metadata": {
        "id": "IFnKSUO4Yi0x"
      }
    },
    {
      "cell_type": "code",
      "execution_count": 1,
      "metadata": {
        "id": "1yv2Y0dvYdEy"
      },
      "outputs": [],
      "source": [
        "sample_text = '''\n",
        "Artificial Intelligence is the poetry of logic.\n",
        "Machines dream in zeros and ones, weaving digital tales in silence.\n",
        "When data meets purpose, intelligence awakens.\n",
        "A new dawn rises where code writes destiny.\n",
        "'''"
      ]
    },
    {
      "cell_type": "markdown",
      "source": [
        "# STEP 2: Build Markov Chain Model (Word-Level)"
      ],
      "metadata": {
        "id": "qOLBnphfYlSr"
      }
    },
    {
      "cell_type": "code",
      "execution_count": 2,
      "metadata": {
        "colab": {
          "base_uri": "https://localhost:8080/"
        },
        "id": "fdyf9JS5YdEz",
        "outputId": "5f882c97-74c6-4bd0-a57f-8c0f2a182c14"
      },
      "outputs": [
        {
          "output_type": "execute_result",
          "data": {
            "text/plain": [
              "defaultdict(list,\n",
              "            {'Artificial': ['Intelligence'],\n",
              "             'Intelligence': ['is'],\n",
              "             'is': ['the'],\n",
              "             'the': ['poetry'],\n",
              "             'poetry': ['of'],\n",
              "             'of': ['logic.'],\n",
              "             'logic.': ['Machines'],\n",
              "             'Machines': ['dream'],\n",
              "             'dream': ['in'],\n",
              "             'in': ['zeros', 'silence.'],\n",
              "             'zeros': ['and'],\n",
              "             'and': ['ones,'],\n",
              "             'ones,': ['weaving'],\n",
              "             'weaving': ['digital'],\n",
              "             'digital': ['tales'],\n",
              "             'tales': ['in'],\n",
              "             'silence.': ['When'],\n",
              "             'When': ['data'],\n",
              "             'data': ['meets'],\n",
              "             'meets': ['purpose,'],\n",
              "             'purpose,': ['intelligence'],\n",
              "             'intelligence': ['awakens.'],\n",
              "             'awakens.': ['A'],\n",
              "             'A': ['new'],\n",
              "             'new': ['dawn'],\n",
              "             'dawn': ['rises'],\n",
              "             'rises': ['where'],\n",
              "             'where': ['code'],\n",
              "             'code': ['writes'],\n",
              "             'writes': ['destiny.']})"
            ]
          },
          "metadata": {},
          "execution_count": 2
        }
      ],
      "source": [
        "import random\n",
        "from collections import defaultdict\n",
        "\n",
        "def build_markov_chain(text):\n",
        "    words = text.split()\n",
        "    markov_chain = defaultdict(list)\n",
        "    for current_word, next_word in zip(words[:-1], words[1:]):\n",
        "        markov_chain[current_word].append(next_word)\n",
        "    return markov_chain\n",
        "\n",
        "chain = build_markov_chain(sample_text)\n",
        "chain"
      ]
    },
    {
      "cell_type": "markdown",
      "source": [
        "# STEP 3: Generate Text\n"
      ],
      "metadata": {
        "id": "dWhd8aZKYoKd"
      }
    },
    {
      "cell_type": "code",
      "execution_count": 3,
      "metadata": {
        "colab": {
          "base_uri": "https://localhost:8080/"
        },
        "id": "vP31Fm_5YdE0",
        "outputId": "841d4fc6-0433-4a43-afd3-2bec086d7f48"
      },
      "outputs": [
        {
          "output_type": "stream",
          "name": "stdout",
          "text": [
            "\n",
            "Generated Text:\n",
            "\n",
            "Artificial Intelligence is the poetry of logic. Machines dream in silence. When data meets purpose, intelligence awakens. A new dawn rises where code writes destiny.\n"
          ]
        }
      ],
      "source": [
        "def generate_text(chain, start_word, length=30):\n",
        "    word = start_word\n",
        "    result = [word]\n",
        "    for _ in range(length):\n",
        "        next_words = chain.get(word)\n",
        "        if not next_words:\n",
        "            break\n",
        "        word = random.choice(next_words)\n",
        "        result.append(word)\n",
        "    return ' '.join(result)\n",
        "\n",
        "# Start generating text\n",
        "generated = generate_text(chain, start_word=\"Artificial\")\n",
        "print(\"\\nGenerated Text:\\n\")\n",
        "print(generated)"
      ]
    }
  ],
  "metadata": {
    "kernelspec": {
      "display_name": "Python 3",
      "language": "python",
      "name": "python3"
    },
    "language_info": {
      "name": "python",
      "version": ""
    },
    "colab": {
      "provenance": []
    }
  },
  "nbformat": 4,
  "nbformat_minor": 0
}